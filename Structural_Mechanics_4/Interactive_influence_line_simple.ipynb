{
 "cells": [
  {
   "cell_type": "markdown",
   "id": "cb00690e",
   "metadata": {
    "hideCode": true,
    "hidePrompt": true,
    "slideshow": {
     "slide_type": "slide"
    }
   },
   "source": [
    "# Interactive influence lines #"
   ]
  },
  {
   "cell_type": "markdown",
   "id": "87220397",
   "metadata": {
    "hideCode": true,
    "hidePrompt": true,
    "slideshow": {
     "slide_type": "fragment"
    }
   },
   "source": [
    "![figuur 1](data/data_interactive_influence_lines/Structure_simple.gif)"
   ]
  },
  {
   "cell_type": "code",
   "execution_count": 1,
   "id": "67b2256c",
   "metadata": {
    "hideCode": true,
    "hidePrompt": true,
    "slideshow": {
     "slide_type": "skip"
    }
   },
   "outputs": [],
   "source": [
    "import sympy as sp"
   ]
  },
  {
   "cell_type": "code",
   "execution_count": 2,
   "id": "2a09cc31",
   "metadata": {
    "hideCode": true,
    "hidePrompt": true,
    "slideshow": {
     "slide_type": "skip"
    }
   },
   "outputs": [],
   "source": [
    "import numpy as np\n",
    "import matplotlib.pylab as plt\n",
    "from ipywidgets import widgets, interact\n",
    "from matplotlib.patches import Arc,StepPatch"
   ]
  },
  {
   "cell_type": "code",
   "execution_count": 3,
   "id": "9833b193",
   "metadata": {
    "hideCode": true,
    "hidePrompt": true,
    "slideshow": {
     "slide_type": "skip"
    }
   },
   "outputs": [],
   "source": [
    "EI, x = sp.symbols('EI, x',real=True)"
   ]
  },
  {
   "cell_type": "code",
   "execution_count": 4,
   "id": "bde8c2e5",
   "metadata": {
    "hideCode": true,
    "hidePrompt": true,
    "slideshow": {
     "slide_type": "skip"
    }
   },
   "outputs": [],
   "source": [
    "Av, Bv = sp.symbols('Av, Bv',real=True)\n",
    "a, L= sp.symbols('a, L ',positive=True,real=True)\n",
    "C1, C2, C3, C4 = sp.symbols('C1, C2, C3, C4')"
   ]
  },
  {
   "cell_type": "markdown",
   "id": "84af4cc7",
   "metadata": {
    "hideCode": true,
    "hidePrompt": true,
    "slideshow": {
     "slide_type": "slide"
    }
   },
   "source": [
    "##  Influence line support reaction A ##"
   ]
  },
  {
   "cell_type": "code",
   "execution_count": 5,
   "id": "a71d33c8",
   "metadata": {
    "hideCode": true,
    "hidePrompt": true,
    "slideshow": {
     "slide_type": "skip"
    }
   },
   "outputs": [],
   "source": [
    "q = -Bv * sp.SingularityFunction(x,L,-1) - Av * sp.SingularityFunction(x,0,-1) + 1 * sp.SingularityFunction(x,a,-1)\n",
    "V = -sp.integrate(q,x)+C1\n",
    "M = sp.integrate(V,x)+C2\n",
    "kappa = M / EI\n",
    "phi = sp.integrate(kappa,x)+C3\n",
    "w = sp.integrate(phi,x)+C4\n",
    "eq1 = sp.Eq(w.subs(x,0),0)\n",
    "eq2 = sp.Eq(w.subs(x,L),0)\n",
    "eq3 = sp.Eq(M.subs(x,0),0)\n",
    "eq4 = sp.Eq(M.subs(x,L),0)\n",
    "eq5 = sp.Eq(V.subs(x,-1),0)\n",
    "eq6 = sp.Eq(V.subs(x,L+1),0)\n",
    "sol = sp.solve([eq1,eq2,eq3,eq4,eq5,eq6],[C1,C2,C3,C4,Av,Bv])\n",
    "V_sol = V.subs(sol)\n",
    "V_subs = V_sol.subs([(L,5),(a,2),(EI,5000)])\n",
    "V_numpy = sp.lambdify([L,a,EI,x],V_sol.rewrite(sp.Piecewise))\n",
    "M_sol = M.subs(sol)\n",
    "M_subs = M_sol.subs([(L,5),(a,2),(EI,5000)])\n",
    "M_numpy = sp.lambdify([L,a,EI,x],M_sol.rewrite(sp.Piecewise))\n",
    "Av_sol = sol[Av].rewrite(sp.Piecewise)\n",
    "Av_numpy = sp.lambdify([L,a,EI],Av_sol)\n",
    "Bv_sol = sol[Bv].rewrite(sp.Piecewise)\n",
    "Bv_numpy = sp.lambdify([L,a,EI],Bv_sol)"
   ]
  },
  {
   "cell_type": "code",
   "execution_count": 6,
   "id": "d4018d30",
   "metadata": {
    "hideCode": true,
    "hidePrompt": true,
    "slideshow": {
     "slide_type": "fragment"
    }
   },
   "outputs": [
    {
     "data": {
      "application/vnd.jupyter.widget-view+json": {
       "model_id": "c8045c183beb4d7e9aae8b3f704bff5b",
       "version_major": 2,
       "version_minor": 0
      },
      "text/plain": [
       "interactive(children=(FloatSlider(value=2.0, description='Location unit load $x_F = $ ... (m)', layout=Layout(…"
      ]
     },
     "metadata": {},
     "output_type": "display_data"
    }
   ],
   "source": [
    "def func(b):\n",
    "    x = np.linspace(0,5,2)\n",
    "    fig, axs = plt.subplots(2, 1, figsize=(7, 6))\n",
    "    axs[0].plot([0,5],[0,0],color='black',linewidth=2)\n",
    "    #axs[0].grid()\n",
    "    axs[0].annotate(text='', xy=(0,0), xytext=(0,Av_numpy(5,b,5000)), arrowprops=dict(arrowstyle='simple'))\n",
    "    axs[0].annotate('%.2f kN' % Av_numpy(5,b,5000),xy = [0.2,Av_numpy(5,b,5000)])\n",
    "    axs[0].annotate(text='', xy=(5,0), xytext=(5,Bv_numpy(5,b,5000)), arrowprops=dict(arrowstyle='simple'))\n",
    "    #axs[0].annotate('%.2f kN' % Bv_numpy(5,b,5000),xy = [4.3,0.5])\n",
    "    axs[0].annotate(text='', xy=(b,0), xytext=(b,-1), arrowprops=dict(arrowstyle='simple'))\n",
    "    axs[0].set_ylim([-1,1])\n",
    "    axs[0].invert_yaxis()\n",
    "    axs[0].axis('off')\n",
    "    title0 = 'Free body diagram for unit load at $x_F = '+str(b)+'$'\n",
    "    axs[0].set_title(title0)\n",
    "    axs[1].plot([0,5],[0,0],color='black',linewidth=2)\n",
    "    axs[1].grid()\n",
    "    axs[1].axis('equal')\n",
    "    axs[1].plot(x,Av_numpy(5,x,5000),color='blue')\n",
    "    axs[1].plot(b,Av_numpy(5,b,5000),marker='o')\n",
    "    axs[1].annotate('%.2f kN' % Av_numpy(5,b,5000),xy = [b,Av_numpy(5,b,5000)+0.2])\n",
    "    axs[1].invert_yaxis()\n",
    "    title1 = 'Influence line for support reaction at A'\n",
    "    axs[1].set_title(title1)\n",
    "    \n",
    "interact(func, b = widgets.FloatSlider(min=0, max=5, value=2, step=0.1, description=\"Location unit load $x_F = $ ... (m)\",readout_format='.1f',style= {'description_width': '180px'},layout = {'width': '400px'}) );"
   ]
  },
  {
   "cell_type": "markdown",
   "id": "9ecdcfd4",
   "metadata": {
    "hideCode": true,
    "hidePrompt": true,
    "slideshow": {
     "slide_type": "slide"
    }
   },
   "source": [
    "##  Influence line support reaction B ##"
   ]
  },
  {
   "cell_type": "code",
   "execution_count": 7,
   "id": "e51f77f7",
   "metadata": {
    "hideCode": true,
    "hidePrompt": true,
    "slideshow": {
     "slide_type": "fragment"
    }
   },
   "outputs": [
    {
     "data": {
      "application/vnd.jupyter.widget-view+json": {
       "model_id": "9666fd3ec5a344068c19cfee675bdf67",
       "version_major": 2,
       "version_minor": 0
      },
      "text/plain": [
       "interactive(children=(FloatSlider(value=2.0, description='Location unit load $x_F = $ ... (m)', layout=Layout(…"
      ]
     },
     "metadata": {},
     "output_type": "display_data"
    }
   ],
   "source": [
    "def func(b):\n",
    "    x = np.linspace(0,5,2)\n",
    "    fig, axs = plt.subplots(2, 1, figsize=(7, 6))\n",
    "    axs[0].plot([0,5],[0,0],color='black',linewidth=2)\n",
    "    #axs[0].grid()\n",
    "    axs[0].annotate(text='', xy=(0,0), xytext=(0,Av_numpy(5,b,5000)), arrowprops=dict(arrowstyle='simple'))\n",
    "    #axs[0].annotate('%.2f kN' % Av_numpy(5,b,5000),xy = [0.2,0.5])\n",
    "    axs[0].annotate(text='', xy=(5,0), xytext=(5,Bv_numpy(5,b,5000)), arrowprops=dict(arrowstyle='simple'))\n",
    "    axs[0].annotate('%.2f kN' % Bv_numpy(5,b,5000),xy = [4.3,Bv_numpy(5,b,5000)])\n",
    "    axs[0].annotate(text='', xy=(b,0), xytext=(b,-1), arrowprops=dict(arrowstyle='simple'))\n",
    "    axs[0].set_ylim([-1,1])\n",
    "    axs[0].invert_yaxis()\n",
    "    axs[0].axis('off')\n",
    "    title0 = 'Free body diagram for unit load at $x_F = '+str(b)+'$'\n",
    "    axs[0].set_title(title0)\n",
    "    axs[1].plot([0,5],[0,0],color='black',linewidth=2)\n",
    "    axs[1].grid()\n",
    "    axs[1].axis('equal')\n",
    "    axs[1].plot(x,Bv_numpy(5,x,5000),color='blue')\n",
    "    axs[1].plot(b,Bv_numpy(5,b,5000),marker='o')\n",
    "    axs[1].annotate('%.2f kN' % Bv_numpy(5,b,5000),xy = [b,Bv_numpy(5,b,5000)+0.2])\n",
    "    axs[1].invert_yaxis()\n",
    "    title1 = 'Influence line for support reaction at B'\n",
    "    axs[1].set_title(title1)\n",
    "    \n",
    "interact(func, b = widgets.FloatSlider(min=0, max=5, value=2, step=0.1, description=\"Location unit load $x_F = $ ... (m)\",readout_format='.1f',style= {'description_width': '180px'},layout = {'width': '400px'}) );"
   ]
  },
  {
   "cell_type": "markdown",
   "id": "1d3a96ca",
   "metadata": {
    "hideCode": true,
    "hidePrompt": true,
    "slideshow": {
     "slide_type": "slide"
    }
   },
   "source": [
    "## Find M-line ##"
   ]
  },
  {
   "cell_type": "code",
   "execution_count": 8,
   "id": "f884113d",
   "metadata": {
    "hideCode": true,
    "hidePrompt": true,
    "slideshow": {
     "slide_type": "fragment"
    }
   },
   "outputs": [
    {
     "data": {
      "text/latex": [
       "$\\displaystyle \\begin{cases} 0 & \\text{for}\\: x > 5 \\\\2 - \\frac{2 x}{5} & \\text{for}\\: x > 2 \\\\\\frac{3 x}{5} & \\text{for}\\: x > 0 \\\\0 & \\text{otherwise} \\end{cases}$"
      ],
      "text/plain": [
       "Piecewise((0, x > 5), (2 - 2*x/5, x > 2), (3*x/5, x > 0), (0, True))"
      ]
     },
     "metadata": {},
     "output_type": "display_data"
    },
    {
     "data": {
      "image/png": "[encoded data removed]",
      "text/plain": [
       "<Figure size 640x480 with 1 Axes>"
      ]
     },
     "metadata": {},
     "output_type": "display_data"
    }
   ],
   "source": [
    "q = -Bv * sp.SingularityFunction(x,L,-1) - Av * sp.SingularityFunction(x,0,-1) + 1 * sp.SingularityFunction(x,a,-1)\n",
    "V = -sp.integrate(q,x)+C1\n",
    "M = sp.integrate(V,x)+C2\n",
    "kappa = M / EI\n",
    "phi = sp.integrate(kappa,x)+C3\n",
    "w = sp.integrate(phi,x)+C4\n",
    "eq1 = sp.Eq(w.subs(x,0),0)\n",
    "eq2 = sp.Eq(w.subs(x,L),0)\n",
    "eq3 = sp.Eq(M.subs(x,0),0)\n",
    "eq4 = sp.Eq(M.subs(x,L),0)\n",
    "eq5 = sp.Eq(V.subs(x,-1),0)\n",
    "eq6 = sp.Eq(V.subs(x,L+1),0)\n",
    "sol = sp.solve([eq1,eq2,eq3,eq4,eq5,eq6],[C1,C2,C3,C4,Av,Bv])\n",
    "V_sol = V.subs(sol)\n",
    "V_subs = V_sol.subs([(L,5),(a,2),(EI,5000)])\n",
    "V_numpy = sp.lambdify([L,a,EI,x],V_sol.rewrite(sp.Piecewise))\n",
    "M_sol = M.subs(sol)\n",
    "M_subs = M_sol.subs([(L,5),(a,2),(EI,5000)])\n",
    "display(sp.simplify(M_subs.rewrite(sp.Piecewise)))\n",
    "M_numpy = sp.lambdify([L,a,EI,x],M_sol.rewrite(sp.Piecewise))\n",
    "x_plot = np.linspace(0,5,1000)\n",
    "\n",
    "plt.plot([0,5],[0,0],color='black',linewidth=2)\n",
    "plt.plot(x_plot,M_numpy(L=5,a=2,EI=5000,x=x_plot),color=\"blue\")\n",
    "plt.xlabel('$x$')\n",
    "plt.ylabel('Moment')\n",
    "axs = plt.gca()\n",
    "axs.grid()\n",
    "axs.invert_yaxis()\n",
    "title0 = 'Moment distribution for force at $x_F =  2 $'\n",
    "axs.set_title(title0)\n",
    "axs.axis('equal')\n",
    "vervormingsteken = Arc(xy = [2,M_numpy(L=5,a=2,EI=5000,x=2)*1/3],width = 0.5, height = 0.5,theta1=0,theta2=180)\n",
    "axs.add_patch(vervormingsteken);"
   ]
  },
  {
   "cell_type": "markdown",
   "id": "42c42d00",
   "metadata": {
    "hideCode": true,
    "hidePrompt": true,
    "slideshow": {
     "slide_type": "slide"
    }
   },
   "source": [
    "##  Finding influence line for M ##"
   ]
  },
  {
   "cell_type": "code",
   "execution_count": 9,
   "id": "7b2168b3",
   "metadata": {
    "hideCode": true,
    "hidePrompt": true,
    "slideshow": {
     "slide_type": "fragment"
    }
   },
   "outputs": [
    {
     "data": {
      "image/png": "[encoded data removed]",
      "text/plain": [
       "<Figure size 640x480 with 1 Axes>"
      ]
     },
     "metadata": {},
     "output_type": "display_data"
    }
   ],
   "source": [
    "q = -Bv * sp.SingularityFunction(x,L,-1) - Av * sp.SingularityFunction(x,0,-1) + 1 * sp.SingularityFunction(x,a,-1)\n",
    "C1, C2, C3, C4 = sp.symbols('C1, C2, C3, C4')\n",
    "V = -sp.integrate(q,x)+C1\n",
    "M = sp.integrate(V,x)+C2\n",
    "kappa = M / EI\n",
    "phi = sp.integrate(kappa,x)+C3 - sp.SingularityFunction(x,a,0)\n",
    "w = sp.integrate(phi,x)+C4\n",
    "eq1 = sp.Eq(w.subs(x,0),0)\n",
    "eq2 = sp.Eq(w.subs(x,L),0)\n",
    "eq3 = sp.Eq(M.subs(x,0),0)\n",
    "eq4 = sp.Eq(M.subs(x,L),0)\n",
    "eq5 = sp.Eq(V.subs(x,-1),0)\n",
    "eq6 = sp.Eq(V.subs(x,L+1),0)\n",
    "sol = sp.solve([eq1,eq2,eq3,eq4,eq5,eq6],[C1,C2,C3,C4,Av,Bv])\n",
    "w_sol = w.subs(sol)\n",
    "w_subs = w_sol.subs([(L,5),(a,2),(EI,5000)])\n",
    "#display(sp.simplify(w_subs.rewrite(sp.Piecewise)))\n",
    "M_inf_numpy = sp.lambdify([L,a,EI,x],w_sol.rewrite(sp.Piecewise))\n",
    "\n",
    "x_plot = np.linspace(0,5,1000)\n",
    "plt.plot([0,5],[0,0],color='black',linewidth=2)\n",
    "plt.plot(x_plot,M_inf_numpy(L=5,a=2,EI=5000,x=x_plot),color=\"blue\")\n",
    "plt.xlabel('$x_F$')\n",
    "plt.ylabel('Influence factor moment')\n",
    "axs = plt.gca()\n",
    "axs.grid()\n",
    "axs.invert_yaxis()\n",
    "title0 = 'Influence line for moment at $x_M = 2$'\n",
    "axs.set_title(title0);"
   ]
  },
  {
   "cell_type": "markdown",
   "id": "af1d5023",
   "metadata": {
    "hideCode": true,
    "hidePrompt": true,
    "slideshow": {
     "slide_type": "slide"
    }
   },
   "source": [
    "## Comparison M-line and influence line for moment at $x = ...$ #"
   ]
  },
  {
   "cell_type": "code",
   "execution_count": 10,
   "id": "2806cb4d",
   "metadata": {
    "hideCode": true,
    "hidePrompt": true,
    "slideshow": {
     "slide_type": "fragment"
    }
   },
   "outputs": [
    {
     "data": {
      "application/vnd.jupyter.widget-view+json": {
       "model_id": "6a4e4ff7c3654cc6959e41ce00f3fd80",
       "version_major": 2,
       "version_minor": 0
      },
      "text/plain": [
       "interactive(children=(FloatSlider(value=2.0, description='Location moment $x_M =$ ... (m)', layout=Layout(widt…"
      ]
     },
     "metadata": {},
     "output_type": "display_data"
    }
   ],
   "source": [
    "def func(a,b):\n",
    "    x = np.linspace(0,5,100)\n",
    "    fig, axs = plt.subplots(2, 1, figsize=(7, 6))\n",
    "    axs[0].plot([0,5],[0,0],color='black',linewidth=2)\n",
    "    axs[0].grid()\n",
    "    axs[0].axis('equal')\n",
    "    axs[0].plot(x,M_numpy(5,b,5000,x),color='blue')\n",
    "    axs[0].plot(a,M_numpy(5,b,5000,a),marker='o')\n",
    "    axs[0].annotate('%.2f kNm' % M_numpy(5,b,5000,a),xy = [a,M_numpy(5,b,5000,a)+0.2])\n",
    "    axs[0].annotate(text='', xy=(b,0), xytext=(b,-0.4), arrowprops=dict(arrowstyle='simple'))\n",
    "    vervormingsteken = Arc(xy = [b,M_numpy(5,b,5000,b)*1/3],width = M_numpy(5,b,5000,b)/3, height = M_numpy(5,b,5000,b)/3,theta1=0,theta2=180)\n",
    "    axs[0].add_patch(vervormingsteken);\n",
    "    axs[0].invert_yaxis()\n",
    "    title0 = 'Moment distribution for force at $x_F = '+str(b)+'$, showing moment at $x_M = '+str(a)+'$'\n",
    "    axs[0].set_title(title0)\n",
    "    axs[1].plot([0,5],[0,0],color='black',linewidth=2)\n",
    "    axs[1].grid()\n",
    "    axs[1].axis('equal')\n",
    "    axs[1].plot(x,M_inf_numpy(5,a,5000,x),color='blue')\n",
    "    axs[1].plot(b,M_inf_numpy(5,a,5000,b),marker='o')\n",
    "    axs[1].annotate('%.2f kNm' % M_inf_numpy(5,a,5000,b),xy = [b,M_inf_numpy(5,a,5000,b)+0.2])\n",
    "    axs[1].invert_yaxis()\n",
    "    title1 = 'Influence line for moment at $x_M = '+str(a)+'$'\n",
    "    axs[1].set_title(title1)\n",
    "    \n",
    "interact(func, a = widgets.FloatSlider(min=0, max=5, value=2, step=0.2, description=\"Location moment $x_M =$ ... (m)\",readout_format='.1f',style= {'description_width': '180px'},layout = {'width': '400px'}),\n",
    "         b = widgets.FloatSlider(min=0, max=5, value=2, step=0.2, description=\"Location unit load $x_F = $ ... (m)\",readout_format='.1f',style= {'description_width': '180px'},layout = {'width': '400px'}) );"
   ]
  },
  {
   "cell_type": "markdown",
   "id": "b92767eb",
   "metadata": {
    "hideCode": true,
    "hidePrompt": true,
    "slideshow": {
     "slide_type": "slide"
    }
   },
   "source": [
    "# Find V-line #"
   ]
  },
  {
   "cell_type": "code",
   "execution_count": 11,
   "id": "c611e0f4",
   "metadata": {
    "hideCode": true,
    "hideOutput": true,
    "hidePrompt": true,
    "slideshow": {
     "slide_type": "skip"
    }
   },
   "outputs": [],
   "source": [
    "def vervormingV(locationx,locationy,scale,flip=0,rotation=0):\n",
    "    axs = plt.gca()\n",
    "    vx = [-0.5,0,0,0.5]\n",
    "    if flip==0:\n",
    "        vy = [0.25,0.25,-0.25,-0.25]\n",
    "    elif flip==1:\n",
    "        vy = [-0.25,-0.25,0.25,0.25]\n",
    "    vxr= np.add(np.multiply(np.cos(rotation/180*np.pi),vx),np.multiply(np.sin(rotation/180*np.pi),vy))\n",
    "    vyr= np.add(np.multiply(np.sin(rotation/180*np.pi),vx),-np.multiply(np.cos(rotation/180*np.pi),vy))\n",
    "    vxscaled = np.add(locationx,np.multiply(scale,vxr))\n",
    "    vyscaled = np.add(locationy,np.multiply(scale,vyr))\n",
    "    axs.plot(vxscaled,vyscaled,color='black',linewidth=1)\n",
    "    axs.axis('equal')"
   ]
  },
  {
   "cell_type": "code",
   "execution_count": 12,
   "id": "7abf7d31",
   "metadata": {
    "hideCode": true,
    "hidePrompt": true,
    "slideshow": {
     "slide_type": "fragment"
    }
   },
   "outputs": [
    {
     "data": {
      "text/latex": [
       "$\\displaystyle \\begin{cases} 0 & \\text{for}\\: x > 5 \\\\- \\frac{2}{5} & \\text{for}\\: x > 2 \\\\\\frac{3}{5} & \\text{for}\\: x > 0 \\\\0 & \\text{otherwise} \\end{cases}$"
      ],
      "text/plain": [
       "Piecewise((0, x > 5), (-2/5, x > 2), (3/5, x > 0), (0, True))"
      ]
     },
     "metadata": {},
     "output_type": "display_data"
    },
    {
     "data": {
      "image/png": "[encoded data removed]",
      "text/plain": [
       "<Figure size 640x480 with 1 Axes>"
      ]
     },
     "metadata": {},
     "output_type": "display_data"
    }
   ],
   "source": [
    "display(sp.simplify(V_subs.rewrite(sp.Piecewise)))\n",
    "\n",
    "x_plot = np.linspace(0,5.00001,1000)\n",
    "plt.plot([0,5],[0,0],color='black',linewidth=2)\n",
    "plt.plot(x_plot,V_numpy(L=5,a=2,EI=5000,x=x_plot),color=\"blue\")\n",
    "plt.xlabel('$x$')\n",
    "plt.ylabel('Shear force')\n",
    "axs = plt.gca()\n",
    "axs.grid()\n",
    "axs.invert_yaxis()\n",
    "title0 = 'Shear force distribution for force at $x_F =  2 $'\n",
    "vervormingV(1,0.3,0.3,0)\n",
    "vervormingV(3.5,-0.2,0.3,1)\n",
    "axs.set_title(title0);"
   ]
  },
  {
   "cell_type": "markdown",
   "id": "610e1ef5",
   "metadata": {
    "hideCode": true,
    "hidePrompt": true,
    "slideshow": {
     "slide_type": "slide"
    }
   },
   "source": [
    "## Find influence line V ##"
   ]
  },
  {
   "cell_type": "code",
   "execution_count": 13,
   "id": "5d7f1f13",
   "metadata": {
    "hideCode": true,
    "hidePrompt": true,
    "slideshow": {
     "slide_type": "fragment"
    }
   },
   "outputs": [
    {
     "data": {
      "image/png": "[encoded data removed]",
      "text/plain": [
       "<Figure size 640x480 with 1 Axes>"
      ]
     },
     "metadata": {},
     "output_type": "display_data"
    }
   ],
   "source": [
    "C1, C2, C3, C4 = sp.symbols('C1, C2, C3, C4')\n",
    "V = -sp.integrate(q,x)+C1\n",
    "M = sp.integrate(V,x)+C2\n",
    "kappa = M / EI\n",
    "phi = sp.integrate(kappa,x)+C3\n",
    "w = sp.integrate(phi,x)+C4 - sp.SingularityFunction(x,a,0)\n",
    "eq1 = sp.Eq(w.subs(x,0),0)\n",
    "eq2 = sp.Eq(w.subs(x,L),0)\n",
    "eq3 = sp.Eq(M.subs(x,0),0)\n",
    "eq4 = sp.Eq(M.subs(x,L),0)\n",
    "eq5 = sp.Eq(V.subs(x,-1),0)\n",
    "eq6 = sp.Eq(V.subs(x,L+1),0)\n",
    "sol = sp.solve([eq1,eq2,eq3,eq4,eq5,eq6],[C1,C2,C3,C4,Av,Bv])\n",
    "w_sol = w.subs(sol)\n",
    "w_subs = w_sol.subs([(L,5),(a,2),(EI,5000)])\n",
    "#display(sp.simplify(w_subs.rewrite(sp.Piecewise)))\n",
    "V_inf_numpy = sp.lambdify([L,a,EI,x],w_sol.rewrite(sp.Piecewise))\n",
    "\n",
    "x_plot = np.linspace(0,5,1000)\n",
    "plt.plot([0,5],[0,0],color='black',linewidth=2)\n",
    "plt.plot(x_plot,V_inf_numpy(L=5,a=2,EI=5000,x=x_plot),color=\"blue\")\n",
    "plt.xlabel('$x_F$')\n",
    "plt.ylabel('Influence factor shear force')\n",
    "axs = plt.gca()\n",
    "axs.grid()\n",
    "axs.invert_yaxis()\n",
    "title0 = 'Influence line for shear force at $x_V = 2$'\n",
    "axs.set_title(title0);"
   ]
  },
  {
   "cell_type": "markdown",
   "id": "a233cb90",
   "metadata": {
    "hideCode": true,
    "hidePrompt": true,
    "slideshow": {
     "slide_type": "slide"
    }
   },
   "source": [
    "## Comparison V-line and influence line for shear force at $x = ...$ #"
   ]
  },
  {
   "cell_type": "code",
   "execution_count": 14,
   "id": "f3a1656a",
   "metadata": {
    "hideCode": true,
    "hidePrompt": true,
    "slideshow": {
     "slide_type": "fragment"
    }
   },
   "outputs": [
    {
     "data": {
      "application/vnd.jupyter.widget-view+json": {
       "model_id": "5e013bba6fd444c185de3fc3022787e7",
       "version_major": 2,
       "version_minor": 0
      },
      "text/plain": [
       "interactive(children=(FloatSlider(value=2.0, description='Location shear force $x_V$ = ... (m)', layout=Layout…"
      ]
     },
     "metadata": {},
     "output_type": "display_data"
    }
   ],
   "source": [
    "def func(a,b):\n",
    "    x = np.linspace(0,5.0001,200)\n",
    "    fig, axs = plt.subplots(2, 1, figsize=(7, 6))\n",
    "    axs[0].plot([0,5],[0,0],color='black',linewidth=2)\n",
    "    axs[0].grid()\n",
    "    axs[0].axis('equal')\n",
    "    axs[0].plot(x,V_numpy(5,b,5000,x),color='blue')\n",
    "    axs[0].plot(a,V_numpy(5,b,5000,a),marker='o')\n",
    "    axs[0].annotate('%.2f kN' % V_numpy(5,b,5000,a),xy = [a,V_numpy(5,b,5000,a)+0.2])\n",
    "    axs[0].annotate(text='', xy=(b,0), xytext=(b,-0.3), arrowprops=dict(arrowstyle='simple'))\n",
    "    axs[0].invert_yaxis()\n",
    "    plt.sca(axs[0])\n",
    "    vervormingV(b/2,V_numpy(5,b,5000,x)[1]/2,V_numpy(5,b,5000,x)[1]/2,0)\n",
    "    vervormingV(b+(5-b)/2,V_numpy(5,b,5000,x)[-2]/2,V_numpy(5,b,5000,x)[-2]/2,1)\n",
    "    title0 = 'Shear force distribution for force at $x_F = '+str(b)+'$, showing shear force at $x_V = '+str(a)+'$'\n",
    "    axs[0].set_title(title0)\n",
    "    axs[1].plot([0,5],[0,0],color='black',linewidth=2)\n",
    "    axs[1].grid()\n",
    "    axs[1].axis('equal')\n",
    "    axs[1].plot(x,V_inf_numpy(5,a,5000,x),color='blue')\n",
    "    axs[1].plot(b,V_inf_numpy(5,a,5000,b),marker='o')\n",
    "    axs[1].annotate('%.2f kN' % V_inf_numpy(5,a,5000,b),xy = [b,V_inf_numpy(5,a,5000,b)+0.2])\n",
    "    axs[1].invert_yaxis()\n",
    "    title1 = 'Influence line for shear force at $x_V = '+str(a)+'$'\n",
    "    axs[1].set_title(title1)\n",
    "    \n",
    "interact(func, a = widgets.FloatSlider(min=0, max=5, value=2, step=0.2, description=\"Location shear force $x_V$ = ... (m)\",readout_format='.1f',style= {'description_width': '200px'},layout = {'width': '450px'}),\n",
    "         b = widgets.FloatSlider(min=0, max=5, value=2, step=0.2, description=\"Location force $x_F$ = ... (m)\",readout_format='.1f',style= {'description_width': '200px'},layout = {'width': '450px'}) );"
   ]
  },
  {
   "cell_type": "code",
   "execution_count": null,
   "id": "59e691dc",
   "metadata": {
    "hideCode": true,
    "hidePrompt": true,
    "slideshow": {
     "slide_type": "skip"
    }
   },
   "outputs": [],
   "source": []
  }
 ],
 "metadata": {
  "celltoolbar": "Diavoorstelling",
  "hide_code_all_hidden": true,
  "kernelspec": {
   "display_name": "Python 3 (ipykernel)",
   "language": "python",
   "name": "python3"
  },
  "language_info": {
   "codemirror_mode": {
    "name": "ipython",
    "version": 3
   },
   "file_extension": ".py",
   "mimetype": "text/x-python",
   "name": "python",
   "nbconvert_exporter": "python",
   "pygments_lexer": "ipython3",
   "version": "3.9.13"
  }
 },
 "nbformat": 4,
 "nbformat_minor": 5
}
