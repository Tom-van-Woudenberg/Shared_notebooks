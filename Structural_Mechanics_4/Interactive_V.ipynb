{
 "cells": [
  {
   "cell_type": "markdown",
   "id": "1c4691e5",
   "metadata": {},
   "source": [
    "# Total potential energy #"
   ]
  },
  {
   "cell_type": "code",
   "execution_count": 1,
   "id": "ca8053a3",
   "metadata": {},
   "outputs": [],
   "source": [
    "import sympy as sp"
   ]
  },
  {
   "cell_type": "code",
   "execution_count": 2,
   "id": "1bb44057",
   "metadata": {},
   "outputs": [],
   "source": [
    "F = 10\n",
    "EI = 20e3\n",
    "L = 3"
   ]
  },
  {
   "cell_type": "markdown",
   "id": "9fbb4344",
   "metadata": {},
   "source": [
    "## Polynomial trial function ##"
   ]
  },
  {
   "cell_type": "code",
   "execution_count": 10,
   "id": "e1efac21",
   "metadata": {},
   "outputs": [],
   "source": [
    "x, C1, C2, C3, C4, F, u0= sp.symbols('x, C1, C2, C3, C4, F, u0')\n",
    "w = C1*x**3+C2*x**2+C3*x + C4\n",
    "eq1 = sp.Eq(w.subs(x,0),0)\n",
    "eq2 = sp.Eq(w.diff(x).subs(x,0),0)\n",
    "eq3 = sp.Eq((-w.diff(x,2)*EI).subs(x,L),0)\n",
    "eq4 = sp.Eq(w.subs(x,L),u0)\n",
    "sol = sp.solve((eq1, eq2,eq3,eq4),(C1,C2,C3,C4))\n",
    "w_sol = sp.nsimplify(w.subs(sol))\n",
    "w_numpy_polynomial = sp.lambdify((u0,x),w_sol)\n",
    "\n",
    "M_sol_polynomial = sp.nsimplify(EI * w_sol.diff(x,2))\n",
    "\n",
    "Ev_polynomial = sp.integrate(sp.nsimplify(M_sol_polynomial**2/(EI*2)),(x,0,3))\n",
    "\n",
    "Ev_numpy_polynomial = sp.lambdify(u0,Ev_polynomial)\n",
    "\n",
    "V_polynomial = Ev_polynomial - 10 * u0\n",
    "V_numpy_polynomial = sp.lambdify(u0,V_polynomial)"
   ]
  },
  {
   "cell_type": "markdown",
   "id": "24de6069",
   "metadata": {},
   "source": [
    "## Cosine trial function"
   ]
  },
  {
   "cell_type": "code",
   "execution_count": 11,
   "id": "db753f3d",
   "metadata": {},
   "outputs": [],
   "source": [
    "w_sol = u0*sp.sin(x/12*2*sp.pi-sp.pi/2)+u0\n",
    "w_numpy_sin = sp.lambdify((u0,x),w_sol)\n",
    "\n",
    "M_sol_sin = sp.nsimplify(EI * w_sol.diff(x,2))\n",
    "\n",
    "Ev_sin = sp.integrate(sp.nsimplify(M_sol_sin**2/(EI*2)),(x,0,3))\n",
    "\n",
    "Ev_numpy_sin = sp.lambdify(u0,Ev_sin)\n",
    "\n",
    "V_sin = Ev_sin - 10 * u0\n",
    "V_numpy_sin = sp.lambdify(u0,V_sin)"
   ]
  },
  {
   "cell_type": "markdown",
   "id": "e738d8df",
   "metadata": {},
   "source": [
    "## Sin trial function ##"
   ]
  },
  {
   "cell_type": "code",
   "execution_count": 16,
   "id": "87d143c6",
   "metadata": {},
   "outputs": [],
   "source": [
    "w_sol = 2*u0*(sp.cosh(x/sp.pi))-2*u0\n",
    "w_numpy_cosh = sp.lambdify((u0,x),w_sol)\n",
    "\n",
    "M_sol_cosh = sp.nsimplify(EI * w_sol.diff(x,2))\n",
    "\n",
    "Ev_cosh = sp.integrate(sp.nsimplify(M_sol_cosh**2/(EI*2)),(x,0,3))\n",
    "\n",
    "Ev_numpy_cosh = sp.lambdify(u0,Ev_cosh)\n",
    "\n",
    "V_cosh = Ev_cosh - 10 * u0\n",
    "V_numpy_cosh = sp.lambdify(u0,V_cosh)"
   ]
  },
  {
   "cell_type": "markdown",
   "id": "8f4cafba",
   "metadata": {},
   "source": [
    "## Result"
   ]
  },
  {
   "cell_type": "code",
   "execution_count": 13,
   "id": "22be5a63",
   "metadata": {},
   "outputs": [],
   "source": [
    "import matplotlib.pylab as plt\n",
    "import numpy as np\n",
    "from ipywidgets import widgets, interact"
   ]
  },
  {
   "cell_type": "code",
   "execution_count": 18,
   "id": "b860501a",
   "metadata": {},
   "outputs": [
    {
     "data": {
      "application/vnd.jupyter.widget-view+json": {
       "model_id": "814d019176b54f0e9667d424b34bc0e2",
       "version_major": 2,
       "version_minor": 0
      },
      "text/plain": [
       "interactive(children=(FloatSlider(value=0.0, description='Displacement $u_0$', layout=Layout(width='400px'), m…"
      ]
     },
     "metadata": {},
     "output_type": "display_data"
    }
   ],
   "source": [
    "def func(u,trial_function):\n",
    "    fig, axs = plt.subplots(2, 2, figsize=(10, 6))\n",
    "\n",
    "    x = np.linspace(0,3,100)\n",
    "    if trial_function == 'Polynomial':\n",
    "        w_numpy = w_numpy_polynomial\n",
    "        Ev_numpy = Ev_numpy_polynomial\n",
    "        V_numpy = V_numpy_polynomial\n",
    "    elif trial_function == 'cos':\n",
    "        w_numpy = w_numpy_sin\n",
    "        Ev_numpy = Ev_numpy_sin\n",
    "        V_numpy = V_numpy_sin\n",
    "    elif trial_function == 'cosh':\n",
    "        w_numpy = w_numpy_cosh\n",
    "        Ev_numpy = Ev_numpy_cosh\n",
    "        V_numpy = V_numpy_cosh\n",
    "    axs[0,0].plot(x,w_numpy(u,x))\n",
    "    axs[0,0].set_xlim([-0.2,3.2])\n",
    "    axs[0,0].set_ylim([-0.003,0.01])\n",
    "    axs[0,0].invert_yaxis()\n",
    "    axs[0,0].annotate(text='', xy=(3,w_numpy(u,3)), xytext=(3,0), arrowprops=dict(arrowstyle='fancy'))\n",
    "    axs[0,0].text(3.1,w_numpy(u,3),'$u_0$')\n",
    "    axs[0,0].axis('off')\n",
    "    axs[0,1].axis('off')\n",
    "    axs[0,1].set_xlim([-0.2,3.2])\n",
    "    axs[0,1].set_ylim([-0.003,0.01])\n",
    "    axs[0,1].annotate(text='', xy=(1.5,w_numpy(u,3)), xytext=(1.5,w_numpy(u,3)-0.003), arrowprops=dict(arrowstyle='simple'))\n",
    "    axs[0,1].invert_yaxis()\n",
    "    x_axis= ['$E_v$','$A_F$','$E_v - A_F$']\n",
    "    y_axis = [Ev_numpy(u),w_numpy(u,3)*10,Ev_numpy(u)-w_numpy(u,3)*10]\n",
    "    axs[1,0].bar(x_axis,y_axis,color=('blue','green','orange'))\n",
    "    axs[1,0].set_ylim([-0.03,0.1])\n",
    "    axs[1,0].set_yticklabels([])\n",
    "    axs[1,0].set_yticks([])\n",
    "    \n",
    "    u_range=np.linspace(-0.0015,0.01,100)\n",
    "    axs[1,1].plot(u_range,Ev_numpy(u_range),label='$E_v$',color='blue')\n",
    "    axs[1,1].plot(u_range,w_numpy(u_range,3)*10,label='$F_A$',color='green')\n",
    "    axs[1,1].plot(u_range,V_numpy(u_range),label='$E_v - A_F$',color='orange')\n",
    "    axs[1,1].legend()\n",
    "    axs[1,1].plot(u,Ev_numpy(u),'o',color='blue')\n",
    "    axs[1,1].plot(u,w_numpy(u,3)*10,'o',color='green')\n",
    "    axs[1,1].plot(u,Ev_numpy(u)-w_numpy(u,3)*10,'o',color='orange')\n",
    "    axs[1,1].set_ylim([-0.03,0.1])\n",
    "    axs[1,1].set_xlim([-0.0015,0.01])\n",
    "    axs[1,1].set_xlabel('$u_0$')\n",
    "    axs[1,1].set_xticks([])\n",
    "    axs[1,1].set_xticklabels([])\n",
    "    axs[1,1].set_yticks([])\n",
    "\n",
    "interact(func, u = widgets.FloatSlider(min=-0.001, max=0.01, value=0, step=0.001, description=\"Displacement $u_0$\",readout_format='.3f',style= {'description_width': '180px'},layout = {'width': '400px'}),\n",
    "        trial_function = widgets.ToggleButtons(options=['Polynomial', 'cos', 'cosh']));"
   ]
  },
  {
   "cell_type": "code",
   "execution_count": null,
   "id": "3a4b37e3",
   "metadata": {},
   "outputs": [],
   "source": []
  }
 ],
 "metadata": {
  "kernelspec": {
   "display_name": "Python 3 (ipykernel)",
   "language": "python",
   "name": "python3"
  },
  "language_info": {
   "codemirror_mode": {
    "name": "ipython",
    "version": 3
   },
   "file_extension": ".py",
   "mimetype": "text/x-python",
   "name": "python",
   "nbconvert_exporter": "python",
   "pygments_lexer": "ipython3",
   "version": "3.9.13"
  }
 },
 "nbformat": 4,
 "nbformat_minor": 5
}
