{
 "cells": [
  {
   "cell_type": "code",
   "execution_count": 1,
   "id": "e740692b",
   "metadata": {},
   "outputs": [],
   "source": [
    "import sympy as sp"
   ]
  },
  {
   "cell_type": "code",
   "execution_count": 2,
   "id": "fc44ff53",
   "metadata": {},
   "outputs": [],
   "source": [
    "x = sp.symbols('x')"
   ]
  },
  {
   "cell_type": "code",
   "execution_count": 3,
   "id": "62707e56",
   "metadata": {},
   "outputs": [],
   "source": [
    "EI = 5000"
   ]
  },
  {
   "cell_type": "code",
   "execution_count": 4,
   "id": "a500a86d",
   "metadata": {},
   "outputs": [
    {
     "data": {
      "text/latex": [
       "$\\displaystyle {\\left\\langle x - 3 \\right\\rangle}^{-1}$"
      ],
      "text/plain": [
       "SingularityFunction(x, 3, -1)"
      ]
     },
     "metadata": {},
     "output_type": "display_data"
    }
   ],
   "source": [
    "q_BC = 0\n",
    "q_AB = sp.SingularityFunction(x,3,-1)\n",
    "display(q_AB)"
   ]
  },
  {
   "cell_type": "code",
   "execution_count": 5,
   "id": "ce1642d3",
   "metadata": {},
   "outputs": [
    {
     "data": {
      "text/latex": [
       "$\\displaystyle C_{1} - {\\left\\langle x - 3 \\right\\rangle}^{0}$"
      ],
      "text/plain": [
       "C_1 - SingularityFunction(x, 3, 0)"
      ]
     },
     "metadata": {},
     "output_type": "display_data"
    },
    {
     "data": {
      "text/latex": [
       "$\\displaystyle - \\frac{C_{1} x^{3}}{30000} - \\frac{C_{2} x^{2}}{10000} - C_{3} x + C_{4} + \\frac{{\\left\\langle x - 3 \\right\\rangle}^{3}}{30000}$"
      ],
      "text/plain": [
       "-C_1*x**3/30000 - C_2*x**2/10000 - C_3*x + C_4 + SingularityFunction(x, 3, 3)/30000"
      ]
     },
     "metadata": {},
     "output_type": "display_data"
    }
   ],
   "source": [
    "C_1, C_2, C_3, C_4, C_5, C_6, C_7, C_8 = sp.symbols('C_1, C_2, C_3, C_4, C_5, C_6, C_7, C_8')\n",
    "V_AB = - sp.integrate(q_AB,x) + C_1\n",
    "display(V_AB)\n",
    "M_AB = sp.integrate(V_AB,x) + C_2\n",
    "kappa_AB = M_AB / EI\n",
    "phi_AB = sp.integrate(kappa_AB,x)+C_3\n",
    "w_AB = - sp.integrate(phi_AB,x)+C_4\n",
    "display(w_AB)"
   ]
  },
  {
   "cell_type": "code",
   "execution_count": 6,
   "id": "32305e9d",
   "metadata": {},
   "outputs": [
    {
     "data": {
      "text/latex": [
       "$\\displaystyle - \\frac{C_{5} x^{3}}{30000} - \\frac{C_{6} x^{2}}{10000} - C_{7} x + C_{8}$"
      ],
      "text/plain": [
       "-C_5*x**3/30000 - C_6*x**2/10000 - C_7*x + C_8"
      ]
     },
     "metadata": {},
     "output_type": "display_data"
    }
   ],
   "source": [
    "V_BC = - sp.integrate(q_BC,x) + C_5\n",
    "M_BC = sp.integrate(V_BC,x) + C_6\n",
    "kappa_BC = M_BC / EI\n",
    "phi_BC = sp.integrate(kappa_BC,x)+C_7\n",
    "w_BC = - sp.integrate(phi_BC,x)+C_8\n",
    "display(w_BC)"
   ]
  },
  {
   "cell_type": "code",
   "execution_count": 7,
   "id": "e60eb25a",
   "metadata": {},
   "outputs": [],
   "source": [
    "eq1 = sp.Eq(w_AB.subs(x,0),0)\n",
    "eq2 = sp.Eq(M_AB.subs(x,0),0)\n",
    "eq3 = sp.Eq(w_AB.subs(x,5),0)\n",
    "eq4 = sp.Eq(w_BC.subs(x,5),0)\n",
    "eq5 = sp.Eq(M_AB.subs(x,5),M_BC.subs(x,5))\n",
    "eq6 = sp.Eq(phi_AB.subs(x,5),phi_BC.subs(x,5))\n",
    "eq7 = sp.Eq(w_BC.subs(x,10),0)\n",
    "eq8 = sp.Eq(M_BC.subs(x,10),0)"
   ]
  },
  {
   "cell_type": "code",
   "execution_count": 8,
   "id": "101cb489",
   "metadata": {},
   "outputs": [
    {
     "data": {
      "text/plain": [
       "{C_1: 38/125,\n",
       " C_2: 0,\n",
       " C_3: -1/5000,\n",
       " C_4: 0,\n",
       " C_5: 12/125,\n",
       " C_6: -24/25,\n",
       " C_7: 11/12500,\n",
       " C_8: 3/1250}"
      ]
     },
     "metadata": {},
     "output_type": "display_data"
    }
   ],
   "source": [
    "sol = sp.solve([eq1,eq2,eq3,eq4,eq5,eq6,eq7,eq8],[C_1, C_2, C_3, C_4, C_5, C_6, C_7, C_8])\n",
    "display(sol)"
   ]
  },
  {
   "cell_type": "code",
   "execution_count": 11,
   "id": "f6072eab",
   "metadata": {},
   "outputs": [
    {
     "data": {
      "text/latex": [
       "$\\displaystyle - \\frac{19 x^{3}}{1875000} + \\frac{x}{5000} + \\frac{{\\left\\langle x - 3 \\right\\rangle}^{3}}{30000}$"
      ],
      "text/plain": [
       "-19*x**3/1875000 + x/5000 + SingularityFunction(x, 3, 3)/30000"
      ]
     },
     "metadata": {},
     "output_type": "display_data"
    },
    {
     "data": {
      "text/latex": [
       "$\\displaystyle - \\frac{x^{3}}{312500} + \\frac{3 x^{2}}{31250} - \\frac{11 x}{12500} + \\frac{3}{1250}$"
      ],
      "text/plain": [
       "-x**3/312500 + 3*x**2/31250 - 11*x/12500 + 3/1250"
      ]
     },
     "metadata": {},
     "output_type": "display_data"
    }
   ],
   "source": [
    "w_sol_AB = w_AB.subs(sol)\n",
    "w_sol_BC = w_BC.subs(sol)\n",
    "display(w_sol_AB)\n",
    "display(w_sol_BC)"
   ]
  },
  {
   "cell_type": "code",
   "execution_count": 10,
   "id": "d0e6031e",
   "metadata": {},
   "outputs": [
    {
     "data": {
      "image/png": "[encoded data removed]",
      "text/plain": [
       "<Figure size 640x480 with 1 Axes>"
      ]
     },
     "metadata": {},
     "output_type": "display_data"
    },
    {
     "data": {
      "text/plain": [
       "<sympy.plotting.plot.Plot at 0x1887f180340>"
      ]
     },
     "execution_count": 10,
     "metadata": {},
     "output_type": "execute_result"
    }
   ],
   "source": [
    "sp.plot((-w_sol_AB,(x,0,5)),(-w_sol_BC,(x,5,10)))"
   ]
  },
  {
   "cell_type": "code",
   "execution_count": 12,
   "id": "82ee48de",
   "metadata": {},
   "outputs": [
    {
     "data": {
      "text/plain": [
       "0"
      ]
     },
     "metadata": {},
     "output_type": "display_data"
    }
   ],
   "source": [
    "q_BC = 0\n",
    "q_AB = 0\n",
    "display(q_AB)"
   ]
  },
  {
   "cell_type": "code",
   "execution_count": 13,
   "id": "5e539894",
   "metadata": {},
   "outputs": [
    {
     "data": {
      "text/latex": [
       "$\\displaystyle C_{1}$"
      ],
      "text/plain": [
       "C_1"
      ]
     },
     "metadata": {},
     "output_type": "display_data"
    },
    {
     "data": {
      "text/latex": [
       "$\\displaystyle - \\frac{C_{1} x^{3}}{30000} - \\frac{C_{2} x^{2}}{10000} - C_{3} x + C_{4}$"
      ],
      "text/plain": [
       "-C_1*x**3/30000 - C_2*x**2/10000 - C_3*x + C_4"
      ]
     },
     "metadata": {},
     "output_type": "display_data"
    }
   ],
   "source": [
    "V_AB = - sp.integrate(q_AB,x) + C_1\n",
    "display(V_AB)\n",
    "M_AB = sp.integrate(V_AB,x) + C_2\n",
    "kappa_AB = M_AB / EI\n",
    "phi_AB = sp.integrate(kappa_AB,x)+C_3\n",
    "w_AB = - sp.integrate(phi_AB,x)+C_4\n",
    "display(w_AB)"
   ]
  },
  {
   "cell_type": "code",
   "execution_count": 15,
   "id": "90b7890a",
   "metadata": {},
   "outputs": [],
   "source": [
    "eq1 = sp.Eq(w_AB.subs(x,0),1)"
   ]
  },
  {
   "cell_type": "code",
   "execution_count": 16,
   "id": "c055d210",
   "metadata": {},
   "outputs": [
    {
     "data": {
      "text/plain": [
       "{C_1: -60, C_2: 0, C_3: 1/4, C_4: 1, C_5: 60, C_6: -600, C_7: 11/20, C_8: 3/2}"
      ]
     },
     "metadata": {},
     "output_type": "display_data"
    }
   ],
   "source": [
    "sol = sp.solve([eq1,eq2,eq3,eq4,eq5,eq6,eq7,eq8],[C_1, C_2, C_3, C_4, C_5, C_6, C_7, C_8])\n",
    "display(sol)"
   ]
  },
  {
   "cell_type": "code",
   "execution_count": 17,
   "id": "765a502d",
   "metadata": {},
   "outputs": [
    {
     "data": {
      "text/latex": [
       "$\\displaystyle \\frac{x^{3}}{500} - \\frac{x}{4} + 1$"
      ],
      "text/plain": [
       "x**3/500 - x/4 + 1"
      ]
     },
     "metadata": {},
     "output_type": "display_data"
    },
    {
     "data": {
      "text/latex": [
       "$\\displaystyle - \\frac{x^{3}}{500} + \\frac{3 x^{2}}{50} - \\frac{11 x}{20} + \\frac{3}{2}$"
      ],
      "text/plain": [
       "-x**3/500 + 3*x**2/50 - 11*x/20 + 3/2"
      ]
     },
     "metadata": {},
     "output_type": "display_data"
    }
   ],
   "source": [
    "w_sol_AB = w_AB.subs(sol)\n",
    "w_sol_BC = w_BC.subs(sol)\n",
    "display(w_sol_AB)\n",
    "display(w_sol_BC)"
   ]
  },
  {
   "cell_type": "code",
   "execution_count": 18,
   "id": "0b948d17",
   "metadata": {},
   "outputs": [
    {
     "data": {
      "image/png": "[encoded data removed]",
      "text/plain": [
       "<Figure size 640x480 with 1 Axes>"
      ]
     },
     "metadata": {},
     "output_type": "display_data"
    },
    {
     "data": {
      "text/plain": [
       "<sympy.plotting.plot.Plot at 0x18802029490>"
      ]
     },
     "execution_count": 18,
     "metadata": {},
     "output_type": "execute_result"
    }
   ],
   "source": [
    "sp.plot((-w_sol_AB,(x,0,5)),(-w_sol_BC,(x,5,10)))"
   ]
  },
  {
   "cell_type": "code",
   "execution_count": 20,
   "id": "5c75c79c",
   "metadata": {},
   "outputs": [
    {
     "data": {
      "text/latex": [
       "$\\displaystyle - \\frac{C_{1} x^{3}}{30000} - \\frac{C_{2} x^{2}}{10000} - C_{3} x + C_{4} + {\\left\\langle x - 4.9999 \\right\\rangle}^{0}$"
      ],
      "text/plain": [
       "-C_1*x**3/30000 - C_2*x**2/10000 - C_3*x + C_4 + SingularityFunction(x, 4.9999, 0)"
      ]
     },
     "metadata": {},
     "output_type": "display_data"
    }
   ],
   "source": [
    "w_AB = - sp.integrate(phi_AB,x)+C_4 + sp.SingularityFunction(x,4.9999,0)\n",
    "display(w_AB)"
   ]
  },
  {
   "cell_type": "code",
   "execution_count": 21,
   "id": "41dba06f",
   "metadata": {},
   "outputs": [],
   "source": [
    "eq1 = sp.Eq(w_AB.subs(x,0),0)\n",
    "eq2 = sp.Eq(M_AB.subs(x,0),0)\n",
    "eq3 = sp.Eq(w_AB.subs(x,5),0)\n",
    "eq4 = sp.Eq(w_BC.subs(x,5),0)\n",
    "eq5 = sp.Eq(M_AB.subs(x,5),M_BC.subs(x,5))\n",
    "eq6 = sp.Eq(phi_AB.subs(x,5),phi_BC.subs(x,5))\n",
    "eq7 = sp.Eq(w_BC.subs(x,10),0)\n",
    "eq8 = sp.Eq(M_BC.subs(x,10),0)"
   ]
  },
  {
   "cell_type": "code",
   "execution_count": 22,
   "id": "cbbb0e04",
   "metadata": {},
   "outputs": [
    {
     "data": {
      "text/plain": [
       "{C_1: -60, C_2: 0, C_3: 1/4, C_4: 0, C_5: 60, C_6: -600, C_7: 11/20, C_8: 3/2}"
      ]
     },
     "metadata": {},
     "output_type": "display_data"
    }
   ],
   "source": [
    "sol = sp.solve([eq1,eq2,eq3,eq4,eq5,eq6,eq7,eq8],[C_1, C_2, C_3, C_4, C_5, C_6, C_7, C_8])\n",
    "display(sol)"
   ]
  },
  {
   "cell_type": "code",
   "execution_count": 23,
   "id": "2dc80a30",
   "metadata": {},
   "outputs": [
    {
     "data": {
      "text/latex": [
       "$\\displaystyle \\frac{x^{3}}{500} - \\frac{x}{4} + {\\left\\langle x - 4.9999 \\right\\rangle}^{0}$"
      ],
      "text/plain": [
       "x**3/500 - x/4 + SingularityFunction(x, 4.9999, 0)"
      ]
     },
     "metadata": {},
     "output_type": "display_data"
    },
    {
     "data": {
      "text/latex": [
       "$\\displaystyle - \\frac{x^{3}}{500} + \\frac{3 x^{2}}{50} - \\frac{11 x}{20} + \\frac{3}{2}$"
      ],
      "text/plain": [
       "-x**3/500 + 3*x**2/50 - 11*x/20 + 3/2"
      ]
     },
     "metadata": {},
     "output_type": "display_data"
    }
   ],
   "source": [
    "w_sol_AB = w_AB.subs(sol)\n",
    "w_sol_BC = w_BC.subs(sol)\n",
    "display(w_sol_AB)\n",
    "display(w_sol_BC)"
   ]
  },
  {
   "cell_type": "code",
   "execution_count": 24,
   "id": "5b383c14",
   "metadata": {},
   "outputs": [
    {
     "data": {
      "image/png": "[encoded data removed]",
      "text/plain": [
       "<Figure size 640x480 with 1 Axes>"
      ]
     },
     "metadata": {},
     "output_type": "display_data"
    },
    {
     "data": {
      "text/plain": [
       "<sympy.plotting.plot.Plot at 0x18801f3b550>"
      ]
     },
     "execution_count": 24,
     "metadata": {},
     "output_type": "execute_result"
    }
   ],
   "source": [
    "sp.plot((-w_sol_AB,(x,0,5)),(-w_sol_BC,(x,5,10)))"
   ]
  },
  {
   "cell_type": "code",
   "execution_count": 38,
   "id": "3bd16c9c",
   "metadata": {},
   "outputs": [
    {
     "data": {
      "text/latex": [
       "$\\displaystyle \\frac{C_{1} x^{3}}{30000} + \\frac{C_{2} x^{2}}{10000} + C_{3} x + C_{4} + {\\left\\langle x - 1.0 \\cdot 10^{-6} \\right\\rangle}^{1}$"
      ],
      "text/plain": [
       "C_1*x**3/30000 + C_2*x**2/10000 + C_3*x + C_4 + SingularityFunction(x, 1.0e-6, 1)"
      ]
     },
     "metadata": {},
     "output_type": "display_data"
    }
   ],
   "source": [
    "q_AB = 0\n",
    "q_BC = 0\n",
    "V_AB = -sp.integrate(q_AB,x)+C_1\n",
    "M_AB = sp.integrate(V_AB,x)+C_2\n",
    "kappa_AB = M_AB/ EI\n",
    "phi_AB = sp.integrate(kappa_AB,x)+C_3 + sp.SingularityFunction(x,0.000001,0)\n",
    "w_AB = sp.integrate(phi_AB,x)+C_4\n",
    "display(w_AB)"
   ]
  },
  {
   "cell_type": "code",
   "execution_count": 39,
   "id": "afe33308",
   "metadata": {},
   "outputs": [],
   "source": [
    "V_BC = -sp.integrate(q_BC,x)+C_5\n",
    "M_BC = sp.integrate(V_BC,x)+C_6\n",
    "kappa_BC = M_BC/EI\n",
    "phi_BC = sp.integrate(kappa_BC,x) + C_7\n",
    "w_BC = sp.integrate(phi_BC,x) + C_8"
   ]
  },
  {
   "cell_type": "code",
   "execution_count": 40,
   "id": "80a909e0",
   "metadata": {},
   "outputs": [],
   "source": [
    "eq1 = sp.Eq(w_AB.subs(x,0),0)\n",
    "eq2 = sp.Eq(M_AB.subs(x,0),0)\n",
    "eq3 = sp.Eq(w_AB.subs(x,5),0)\n",
    "eq4 = sp.Eq(w_BC.subs(x,5),0)\n",
    "eq5 = sp.Eq(M_AB.subs(x,5),M_BC.subs(x,5))\n",
    "eq6 = sp.Eq(phi_AB.subs(x,5),phi_BC.subs(x,5))\n",
    "eq7 = sp.Eq(w_BC.subs(x,10),0)\n",
    "eq8 = sp.Eq(M_BC.subs(x,10),0)"
   ]
  },
  {
   "cell_type": "code",
   "execution_count": 41,
   "id": "4b77295f",
   "metadata": {},
   "outputs": [
    {
     "data": {
      "text/plain": [
       "{C_1: -6.00000000000000e-5,\n",
       " C_2: 0.0,\n",
       " C_3: -0.999999750000000,\n",
       " C_4: 0.0,\n",
       " C_5: 6.00000000000000e-5,\n",
       " C_6: -0.000600000000000000,\n",
       " C_7: 5.50000000000000e-7,\n",
       " C_8: -1.50000000000000e-6}"
      ]
     },
     "metadata": {},
     "output_type": "display_data"
    }
   ],
   "source": [
    "sol = sp.solve([eq1,eq2,eq3,eq4,eq5,eq6,eq7,eq8],[C_1,C_2,C_3,C_4,C_5,C_6,C_7,C_8])\n",
    "display(sol)"
   ]
  },
  {
   "cell_type": "code",
   "execution_count": 42,
   "id": "35b21cd2",
   "metadata": {},
   "outputs": [
    {
     "data": {
      "text/latex": [
       "$\\displaystyle - 2.0 \\cdot 10^{-9} x^{3} - 0.99999975 x + {\\left\\langle x - 1.0 \\cdot 10^{-6} \\right\\rangle}^{1}$"
      ],
      "text/plain": [
       "-2.0e-9*x**3 - 0.99999975*x + SingularityFunction(x, 1.0e-6, 1)"
      ]
     },
     "metadata": {},
     "output_type": "display_data"
    },
    {
     "data": {
      "text/latex": [
       "$\\displaystyle 2.0 \\cdot 10^{-9} x^{3} - 6.0 \\cdot 10^{-8} x^{2} + 5.5 \\cdot 10^{-7} x - 1.5 \\cdot 10^{-6}$"
      ],
      "text/plain": [
       "2.0e-9*x**3 - 6.0e-8*x**2 + 5.5e-7*x - 1.5e-6"
      ]
     },
     "metadata": {},
     "output_type": "display_data"
    }
   ],
   "source": [
    "w_AB_sol = w_AB.subs(sol)\n",
    "w_BC_sol = w_BC.subs(sol)\n",
    "display(w_AB_sol)\n",
    "display(w_BC_sol)"
   ]
  },
  {
   "cell_type": "code",
   "execution_count": 43,
   "id": "18a1787c",
   "metadata": {},
   "outputs": [
    {
     "data": {
      "image/png": "[encoded data removed]",
      "text/plain": [
       "<Figure size 640x480 with 1 Axes>"
      ]
     },
     "metadata": {},
     "output_type": "display_data"
    },
    {
     "data": {
      "text/plain": [
       "<sympy.plotting.plot.Plot at 0x1880259afd0>"
      ]
     },
     "execution_count": 43,
     "metadata": {},
     "output_type": "execute_result"
    }
   ],
   "source": [
    "sp.plot((w_AB_sol,(x,0,5)),((w_BC_sol),(x,5,10)))"
   ]
  },
  {
   "cell_type": "code",
   "execution_count": null,
   "id": "a59993f3",
   "metadata": {},
   "outputs": [],
   "source": []
  }
 ],
 "metadata": {
  "kernelspec": {
   "display_name": "Python 3 (ipykernel)",
   "language": "python",
   "name": "python3"
  },
  "language_info": {
   "codemirror_mode": {
    "name": "ipython",
    "version": 3
   },
   "file_extension": ".py",
   "mimetype": "text/x-python",
   "name": "python",
   "nbconvert_exporter": "python",
   "pygments_lexer": "ipython3",
   "version": "3.9.13"
  }
 },
 "nbformat": 4,
 "nbformat_minor": 5
}
