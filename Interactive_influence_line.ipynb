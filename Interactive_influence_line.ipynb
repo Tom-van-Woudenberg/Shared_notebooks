{
 "cells": [
  {
   "cell_type": "markdown",
   "id": "cb00690e",
   "metadata": {},
   "source": [
    "# Interactive influence lines #"
   ]
  },
  {
   "cell_type": "markdown",
   "id": "87220397",
   "metadata": {},
   "source": [
    "![figuur 1](data/data_interactive_influence_lines/Structure.gif)"
   ]
  },
  {
   "cell_type": "code",
   "execution_count": 1,
   "id": "67b2256c",
   "metadata": {},
   "outputs": [],
   "source": [
    "import sympy as sp"
   ]
  },
  {
   "cell_type": "code",
   "execution_count": 2,
   "id": "9833b193",
   "metadata": {},
   "outputs": [],
   "source": [
    "EI, x = sp.symbols('EI, x',real=True)"
   ]
  },
  {
   "cell_type": "markdown",
   "id": "42c42d00",
   "metadata": {},
   "source": [
    "##  Finding influence line for M ##"
   ]
  },
  {
   "cell_type": "code",
   "execution_count": 3,
   "id": "bde8c2e5",
   "metadata": {},
   "outputs": [],
   "source": [
    "Av, Bv, Cv = sp.symbols('Av, Bv, Cv',real=True)\n",
    "a, b, L1, L2 = sp.symbols('a, b, L1, L2',positive=True,real=True)\n",
    "q = Bv * sp.SingularityFunction(x,L1,-1) - Av * sp.SingularityFunction(x,0,-1) - Cv * sp.SingularityFunction(x,L1+L2,-1)\n",
    "C1, C2, C3, C4 = sp.symbols('C1, C2, C3, C4')\n",
    "V = -sp.integrate(q,x)+C1\n",
    "M = sp.integrate(V,x)+C2\n",
    "kappa = M / EI\n",
    "phi = sp.integrate(kappa,x)+C3 - sp.SingularityFunction(x,a,0)\n",
    "w = sp.integrate(phi,x)+C4"
   ]
  },
  {
   "cell_type": "code",
   "execution_count": 4,
   "id": "7b2168b3",
   "metadata": {},
   "outputs": [
    {
     "data": {
      "text/latex": [
       "$\\displaystyle \\begin{cases} \\frac{x}{10} - 1 & \\text{for}\\: x > 10 \\\\- \\frac{x^{3}}{250} + \\frac{3 x^{2}}{25} - \\frac{11 x}{10} + 3 & \\text{for}\\: x > 5 \\\\\\frac{x^{3}}{250} - \\frac{x}{2} + 2 & \\text{for}\\: x > 2 \\\\\\frac{x \\left(x^{2} + 125\\right)}{250} & \\text{for}\\: x > 0 \\\\\\frac{x}{2} & \\text{otherwise} \\end{cases}$"
      ],
      "text/plain": [
       "Piecewise((x/10 - 1, x > 10), (-x**3/250 + 3*x**2/25 - 11*x/10 + 3, x > 5), (x**3/250 - x/2 + 2, x > 2), (x*(x**2 + 125)/250, x > 0), (x/2, True))"
      ]
     },
     "metadata": {},
     "output_type": "display_data"
    }
   ],
   "source": [
    "eq1 = sp.Eq(w.subs(x,0),0)\n",
    "eq2 = sp.Eq(w.subs(x,L1),0)\n",
    "eq3 = sp.Eq(w.subs(x,L1+L2),0)\n",
    "eq4 = sp.Eq(M.subs(x,0),0)\n",
    "eq5 = sp.Eq(M.subs(x,L1+L2),0)\n",
    "eq6 = sp.Eq(V.subs(x,-1),0)\n",
    "eq7 = sp.Eq(V.subs(x,L1+L2+1),0)\n",
    "sol = sp.solve([eq1,eq2,eq3,eq4,eq5,eq6,eq7],[C1,C2,C3,C4,Av,Bv,Cv])\n",
    "w_sol = w.subs(sol)\n",
    "w_subs = w_sol.subs([(L1,5),(L2,5),(a,2),(EI,5000)])\n",
    "display(sp.simplify(w_subs.rewrite(sp.Piecewise)))\n",
    "M_inf_numpy = sp.lambdify([L1,L2,a,EI,x],w_sol.rewrite(sp.Piecewise))\n",
    "#sp.plot(w_subs,(x,0,10));"
   ]
  },
  {
   "cell_type": "markdown",
   "id": "610e1ef5",
   "metadata": {},
   "source": [
    "## Find influence line V ##"
   ]
  },
  {
   "cell_type": "code",
   "execution_count": 5,
   "id": "5d7f1f13",
   "metadata": {},
   "outputs": [
    {
     "data": {
      "text/latex": [
       "$\\displaystyle \\begin{cases} \\frac{10 - x}{20} & \\text{for}\\: x > 10 \\\\\\frac{x^{3} - 30 x^{2} + 275 x - 750}{500} & \\text{for}\\: x > 5 \\\\- \\frac{x^{3}}{500} + \\frac{x}{4} - 1 & \\text{for}\\: x > 2 \\\\\\frac{x \\left(125 - x^{2}\\right)}{500} & \\text{for}\\: x > 0 \\\\\\frac{x}{4} & \\text{otherwise} \\end{cases}$"
      ],
      "text/plain": [
       "Piecewise(((10 - x)/20, x > 10), ((x**3 - 30*x**2 + 275*x - 750)/500, x > 5), (-x**3/500 + x/4 - 1, x > 2), (x*(125 - x**2)/500, x > 0), (x/4, True))"
      ]
     },
     "metadata": {},
     "output_type": "display_data"
    }
   ],
   "source": [
    "C1, C2, C3, C4 = sp.symbols('C1, C2, C3, C4')\n",
    "V = -sp.integrate(q,x)+C1\n",
    "M = sp.integrate(V,x)+C2\n",
    "kappa = M / EI\n",
    "phi = sp.integrate(kappa,x)+C3\n",
    "w = sp.integrate(phi,x)+C4 - sp.SingularityFunction(x,a,0)\n",
    "eq1 = sp.Eq(w.subs(x,0),0)\n",
    "eq2 = sp.Eq(w.subs(x,L1),0)\n",
    "eq3 = sp.Eq(w.subs(x,L1+L2),0)\n",
    "eq4 = sp.Eq(M.subs(x,0),0)\n",
    "eq5 = sp.Eq(M.subs(x,L1+L2),0)\n",
    "eq6 = sp.Eq(V.subs(x,-1),0)\n",
    "eq7 = sp.Eq(V.subs(x,L1+L2+1),0)\n",
    "sol = sp.solve([eq1,eq2,eq3,eq4,eq5,eq6,eq7],[C1,C2,C3,C4,Av,Bv,Cv])\n",
    "w_sol = w.subs(sol)\n",
    "w_subs = w_sol.subs([(L1,5),(L2,5),(a,2),(EI,5000)])\n",
    "display(sp.simplify(w_subs.rewrite(sp.Piecewise)))\n",
    "V_inf_numpy = sp.lambdify([L1,L2,a,EI,x],w_sol.rewrite(sp.Piecewise))\n",
    "#sp.plot(w_subs,(x,0,10));"
   ]
  },
  {
   "cell_type": "markdown",
   "id": "1d3a96ca",
   "metadata": {},
   "source": [
    "# Find M- and V-line"
   ]
  },
  {
   "cell_type": "code",
   "execution_count": 6,
   "id": "f884113d",
   "metadata": {},
   "outputs": [
    {
     "data": {
      "text/latex": [
       "$\\displaystyle \\begin{cases} 0 & \\text{for}\\: x > 10 \\\\\\frac{21}{250} & \\text{for}\\: x > 5 \\\\- \\frac{121}{250} & \\text{for}\\: x > 2 \\\\\\frac{129}{250} & \\text{for}\\: x > 0 \\\\0 & \\text{otherwise} \\end{cases}$"
      ],
      "text/plain": [
       "Piecewise((0, x > 10), (21/250, x > 5), (-121/250, x > 2), (129/250, x > 0), (0, True))"
      ]
     },
     "metadata": {},
     "output_type": "display_data"
    },
    {
     "data": {
      "text/latex": [
       "$\\displaystyle \\begin{cases} 0 & \\text{for}\\: x > 10 \\\\\\frac{21 \\left(x - 10\\right)}{250} & \\text{for}\\: x > 5 \\\\2 - \\frac{121 x}{250} & \\text{for}\\: x > 2 \\\\\\frac{129 x}{250} & \\text{for}\\: x > 0 \\\\0 & \\text{otherwise} \\end{cases}$"
      ],
      "text/plain": [
       "Piecewise((0, x > 10), (21*(x - 10)/250, x > 5), (2 - 121*x/250, x > 2), (129*x/250, x > 0), (0, True))"
      ]
     },
     "metadata": {},
     "output_type": "display_data"
    }
   ],
   "source": [
    "q += 1 * sp.SingularityFunction(x,a,-1)\n",
    "V = -sp.integrate(q,x)+C1\n",
    "M = sp.integrate(V,x)+C2\n",
    "kappa = M / EI\n",
    "phi = sp.integrate(kappa,x)+C3\n",
    "w = sp.integrate(phi,x)+C4\n",
    "eq1 = sp.Eq(w.subs(x,0),0)\n",
    "eq2 = sp.Eq(w.subs(x,L1),0)\n",
    "eq3 = sp.Eq(w.subs(x,L1+L2),0)\n",
    "eq4 = sp.Eq(M.subs(x,0),0)\n",
    "eq5 = sp.Eq(M.subs(x,L1+L2),0)\n",
    "eq6 = sp.Eq(V.subs(x,-1),0)\n",
    "eq7 = sp.Eq(V.subs(x,L1+L2+1),0)\n",
    "sol = sp.solve([eq1,eq2,eq3,eq4,eq5,eq6,eq7],[C1,C2,C3,C4,Av,Bv,Cv])\n",
    "V_sol = V.subs(sol)\n",
    "V_subs = V_sol.subs([(L1,5),(L2,5),(a,2),(EI,5000)])\n",
    "display(sp.simplify(V_subs.rewrite(sp.Piecewise)))\n",
    "V_numpy = sp.lambdify([L1,L2,a,EI,x],V_sol.rewrite(sp.Piecewise))\n",
    "M_sol = M.subs(sol)\n",
    "M_subs = M_sol.subs([(L1,5),(L2,5),(a,2),(EI,5000)])\n",
    "display(sp.simplify(M_subs.rewrite(sp.Piecewise)))\n",
    "M_numpy = sp.lambdify([L1,L2,a,EI,x],M_sol.rewrite(sp.Piecewise))\n",
    "#sp.plot(M_subs,(x,0,10))\n",
    "#sp.plot(V_subs,(x,0,10))"
   ]
  },
  {
   "cell_type": "markdown",
   "id": "af1d5023",
   "metadata": {},
   "source": [
    "## influence line for moment at $x = ...$ #"
   ]
  },
  {
   "cell_type": "code",
   "execution_count": 7,
   "id": "2a09cc31",
   "metadata": {},
   "outputs": [],
   "source": [
    "import numpy as np\n",
    "import matplotlib.pylab as plt\n",
    "from ipywidgets import widgets, interact"
   ]
  },
  {
   "cell_type": "code",
   "execution_count": 8,
   "id": "2806cb4d",
   "metadata": {},
   "outputs": [
    {
     "data": {
      "application/vnd.jupyter.widget-view+json": {
       "model_id": "ffdb52283fd0420388b2739e51727691",
       "version_major": 2,
       "version_minor": 0
      },
      "text/plain": [
       "interactive(children=(FloatSlider(value=2.0, description='Location moment x = ... (m)', layout=Layout(width='4…"
      ]
     },
     "metadata": {},
     "output_type": "display_data"
    }
   ],
   "source": [
    "def func(a,b):\n",
    "    x = np.linspace(0,10,500)\n",
    "    fig, axs = plt.subplots(2, 1, figsize=(7, 8))\n",
    "    axs[0].plot([0,10],[0,0],color='black',linewidth=2)\n",
    "    axs[0].grid()\n",
    "    axs[0].axis('equal')\n",
    "    axs[0].plot(x,M_numpy(5,5,b,5000,x),color='blue')\n",
    "    axs[0].plot(a,M_numpy(5,5,b,5000,a),marker='o')\n",
    "    axs[0].annotate('%.2f kNm' % M_numpy(5,5,b,5000,a),xy = [a,M_numpy(5,5,b,5000,a)+0.5])\n",
    "    axs[0].annotate(text='', xy=(b,0), xytext=(b,-1), arrowprops=dict(arrowstyle='simple'))\n",
    "    axs[0].invert_yaxis()\n",
    "    title0 = 'Moment distribution for force at $x = '+str(b)+'$, showing moment at $x = '+str(a)+'$'\n",
    "    axs[0].set_title(title0)\n",
    "    axs[1].plot([0,10],[0,0],color='black',linewidth=2)\n",
    "    axs[1].grid()\n",
    "    axs[1].axis('equal')\n",
    "    axs[1].plot(x,M_inf_numpy(5,5,a,5000,x),color='blue')\n",
    "    axs[1].plot(b,M_inf_numpy(5,5,a,5000,b),marker='o')\n",
    "    axs[1].annotate('%.2f kNm' % M_inf_numpy(5,5,a,5000,b),xy = [b,M_inf_numpy(5,5,a,5000,b)+0.5])\n",
    "    axs[1].invert_yaxis()\n",
    "    title1 = 'Influence line for moment at $x = '+str(a)+'$'\n",
    "    axs[1].set_title(title1)\n",
    "    \n",
    "interact(func, a = widgets.FloatSlider(min=0, max=10, value=2, step=0.2, description=\"Location moment x = ... (m)\",readout_format='.1f',style= {'description_width': '180px'},layout = {'width': '400px'}),\n",
    "         b = widgets.FloatSlider(min=0, max=10, value=2, step=0.2, description=\"Location force x = ... (m)\",readout_format='.1f',style= {'description_width': '180px'},layout = {'width': '400px'}) );"
   ]
  },
  {
   "cell_type": "code",
   "execution_count": 9,
   "id": "88077820",
   "metadata": {},
   "outputs": [],
   "source": [
    "## influence line for shear force at $x = ...$ #"
   ]
  },
  {
   "cell_type": "code",
   "execution_count": 10,
   "id": "f3a1656a",
   "metadata": {},
   "outputs": [
    {
     "data": {
      "application/vnd.jupyter.widget-view+json": {
       "model_id": "4b9609fbf8c04c0faadbeff328d770dd",
       "version_major": 2,
       "version_minor": 0
      },
      "text/plain": [
       "interactive(children=(FloatSlider(value=2.0, description='Location shear force x = ... (m)', layout=Layout(wid…"
      ]
     },
     "metadata": {},
     "output_type": "display_data"
    }
   ],
   "source": [
    "def func(a,b):\n",
    "    x = np.linspace(0,10,500)\n",
    "    fig, axs = plt.subplots(2, 1, figsize=(7, 8))\n",
    "    axs[0].plot([0,10],[0,0],color='black',linewidth=2)\n",
    "    axs[0].grid()\n",
    "    axs[0].axis('equal')\n",
    "    axs[0].plot(x,V_numpy(5,5,b,5000,x),color='blue')\n",
    "    axs[0].plot(a,V_numpy(5,5,b,5000,a),marker='o')\n",
    "    axs[0].annotate('%.2f kN' % V_numpy(5,5,b,5000,a),xy = [a,V_numpy(5,5,b,5000,a)+0.5])\n",
    "    axs[0].annotate(text='', xy=(b,0), xytext=(b,-1), arrowprops=dict(arrowstyle='simple'))\n",
    "    axs[0].invert_yaxis()\n",
    "    title0 = 'Shear force distribution for force at $x = '+str(b)+'$, showing shear force at $x = '+str(a)+'$'\n",
    "    axs[0].set_title(title0)\n",
    "    axs[1].plot([0,10],[0,0],color='black',linewidth=2)\n",
    "    axs[1].grid()\n",
    "    axs[1].axis('equal')\n",
    "    axs[1].plot(x,V_inf_numpy(5,5,a,5000,x),color='blue')\n",
    "    axs[1].plot(b,V_inf_numpy(5,5,a,5000,b),marker='o')\n",
    "    axs[1].annotate('%.2f kN' % V_inf_numpy(5,5,a,5000,b),xy = [b,V_inf_numpy(5,5,a,5000,b)+0.5])\n",
    "    axs[1].invert_yaxis()\n",
    "    title1 = 'Influence line for shear force at $x = '+str(a)+'$'\n",
    "    axs[1].set_title(title1)\n",
    "    \n",
    "interact(func, a = widgets.FloatSlider(min=0, max=10, value=2, step=0.2, description=\"Location shear force x = ... (m)\",readout_format='.1f',style= {'description_width': '180px'},layout = {'width': '400px'}),\n",
    "         b = widgets.FloatSlider(min=0, max=10, value=2, step=0.2, description=\"Location force x = ... (m)\",readout_format='.1f',style= {'description_width': '180px'},layout = {'width': '400px'}) );"
   ]
  },
  {
   "cell_type": "code",
   "execution_count": null,
   "id": "59e691dc",
   "metadata": {},
   "outputs": [],
   "source": []
  }
 ],
 "metadata": {
  "kernelspec": {
   "display_name": "Python 3 (ipykernel)",
   "language": "python",
   "name": "python3"
  },
  "language_info": {
   "codemirror_mode": {
    "name": "ipython",
    "version": 3
   },
   "file_extension": ".py",
   "mimetype": "text/x-python",
   "name": "python",
   "nbconvert_exporter": "python",
   "pygments_lexer": "ipython3",
   "version": "3.9.13"
  }
 },
 "nbformat": 4,
 "nbformat_minor": 5
}
